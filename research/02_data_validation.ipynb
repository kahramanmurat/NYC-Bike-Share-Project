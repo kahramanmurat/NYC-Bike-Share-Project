{
 "cells": [
  {
   "cell_type": "code",
   "execution_count": 42,
   "metadata": {},
   "outputs": [],
   "source": [
    "import os"
   ]
  },
  {
   "cell_type": "code",
   "execution_count": 43,
   "metadata": {},
   "outputs": [
    {
     "data": {
      "text/plain": [
       "'/home/ubuntu/NYC-Bike-Share-Project'"
      ]
     },
     "execution_count": 43,
     "metadata": {},
     "output_type": "execute_result"
    }
   ],
   "source": [
    "%pwd"
   ]
  },
  {
   "cell_type": "code",
   "execution_count": 3,
   "metadata": {},
   "outputs": [],
   "source": [
    "os.chdir(\"../\")"
   ]
  },
  {
   "cell_type": "code",
   "execution_count": 44,
   "metadata": {},
   "outputs": [
    {
     "data": {
      "text/plain": [
       "'/home/ubuntu/NYC-Bike-Share-Project'"
      ]
     },
     "execution_count": 44,
     "metadata": {},
     "output_type": "execute_result"
    }
   ],
   "source": [
    "%pwd"
   ]
  },
  {
   "cell_type": "code",
   "execution_count": 45,
   "metadata": {},
   "outputs": [],
   "source": [
    "import pandas as pd"
   ]
  },
  {
   "cell_type": "code",
   "execution_count": 46,
   "metadata": {},
   "outputs": [
    {
     "data": {
      "text/html": [
       "<div>\n",
       "<style scoped>\n",
       "    .dataframe tbody tr th:only-of-type {\n",
       "        vertical-align: middle;\n",
       "    }\n",
       "\n",
       "    .dataframe tbody tr th {\n",
       "        vertical-align: top;\n",
       "    }\n",
       "\n",
       "    .dataframe thead th {\n",
       "        text-align: right;\n",
       "    }\n",
       "</style>\n",
       "<table border=\"1\" class=\"dataframe\">\n",
       "  <thead>\n",
       "    <tr style=\"text-align: right;\">\n",
       "      <th></th>\n",
       "      <th>start_station_id</th>\n",
       "      <th>end_station_id</th>\n",
       "      <th>rideable_type_numeric</th>\n",
       "      <th>member_casual_numeric</th>\n",
       "      <th>trip_distance_miles</th>\n",
       "      <th>duration_min</th>\n",
       "    </tr>\n",
       "  </thead>\n",
       "  <tbody>\n",
       "    <tr>\n",
       "      <th>0</th>\n",
       "      <td>5905.12</td>\n",
       "      <td>5703.13</td>\n",
       "      <td>0</td>\n",
       "      <td>1</td>\n",
       "      <td>0.626842</td>\n",
       "      <td>4.966667</td>\n",
       "    </tr>\n",
       "    <tr>\n",
       "      <th>1</th>\n",
       "      <td>5938.11</td>\n",
       "      <td>4692.01</td>\n",
       "      <td>0</td>\n",
       "      <td>1</td>\n",
       "      <td>2.874320</td>\n",
       "      <td>35.166667</td>\n",
       "    </tr>\n",
       "    <tr>\n",
       "      <th>2</th>\n",
       "      <td>5938.11</td>\n",
       "      <td>4692.01</td>\n",
       "      <td>0</td>\n",
       "      <td>1</td>\n",
       "      <td>2.874320</td>\n",
       "      <td>30.733333</td>\n",
       "    </tr>\n",
       "    <tr>\n",
       "      <th>3</th>\n",
       "      <td>5938.11</td>\n",
       "      <td>4692.01</td>\n",
       "      <td>0</td>\n",
       "      <td>1</td>\n",
       "      <td>2.874320</td>\n",
       "      <td>30.183333</td>\n",
       "    </tr>\n",
       "    <tr>\n",
       "      <th>4</th>\n",
       "      <td>5938.11</td>\n",
       "      <td>5779.10</td>\n",
       "      <td>0</td>\n",
       "      <td>1</td>\n",
       "      <td>0.383258</td>\n",
       "      <td>5.150000</td>\n",
       "    </tr>\n",
       "  </tbody>\n",
       "</table>\n",
       "</div>"
      ],
      "text/plain": [
       "   start_station_id  end_station_id  rideable_type_numeric  \\\n",
       "0           5905.12         5703.13                      0   \n",
       "1           5938.11         4692.01                      0   \n",
       "2           5938.11         4692.01                      0   \n",
       "3           5938.11         4692.01                      0   \n",
       "4           5938.11         5779.10                      0   \n",
       "\n",
       "   member_casual_numeric  trip_distance_miles  duration_min  \n",
       "0                      1             0.626842      4.966667  \n",
       "1                      1             2.874320     35.166667  \n",
       "2                      1             2.874320     30.733333  \n",
       "3                      1             2.874320     30.183333  \n",
       "4                      1             0.383258      5.150000  "
      ]
     },
     "execution_count": 46,
     "metadata": {},
     "output_type": "execute_result"
    }
   ],
   "source": [
    "data = pd.read_csv(\"artifacts/data_ingestion/output.csv\")\n",
    "data.head()"
   ]
  },
  {
   "cell_type": "code",
   "execution_count": 47,
   "metadata": {},
   "outputs": [
    {
     "name": "stdout",
     "output_type": "stream",
     "text": [
      "<class 'pandas.core.frame.DataFrame'>\n",
      "RangeIndex: 999376 entries, 0 to 999375\n",
      "Data columns (total 6 columns):\n",
      " #   Column                 Non-Null Count   Dtype  \n",
      "---  ------                 --------------   -----  \n",
      " 0   start_station_id       999376 non-null  float64\n",
      " 1   end_station_id         999376 non-null  float64\n",
      " 2   rideable_type_numeric  999376 non-null  int64  \n",
      " 3   member_casual_numeric  999376 non-null  int64  \n",
      " 4   trip_distance_miles    999376 non-null  float64\n",
      " 5   duration_min           999376 non-null  float64\n",
      "dtypes: float64(4), int64(2)\n",
      "memory usage: 45.7 MB\n"
     ]
    }
   ],
   "source": [
    "data.info()"
   ]
  },
  {
   "cell_type": "code",
   "execution_count": 48,
   "metadata": {},
   "outputs": [],
   "source": [
    "# clean missing values on start_station_id, end_station_id columns"
   ]
  },
  {
   "cell_type": "code",
   "execution_count": 49,
   "metadata": {},
   "outputs": [
    {
     "data": {
      "text/plain": [
       "start_station_id         0\n",
       "end_station_id           0\n",
       "rideable_type_numeric    0\n",
       "member_casual_numeric    0\n",
       "trip_distance_miles      0\n",
       "duration_min             0\n",
       "dtype: int64"
      ]
     },
     "execution_count": 49,
     "metadata": {},
     "output_type": "execute_result"
    }
   ],
   "source": [
    "data.isnull().sum()"
   ]
  },
  {
   "cell_type": "code",
   "execution_count": 12,
   "metadata": {},
   "outputs": [
    {
     "name": "stdout",
     "output_type": "stream",
     "text": [
      "Unique values in 'start_station_id' before cleaning:\n",
      "['5905.12' '5938.11' '5308.04' ... 8325.12 8631.03 3356.07]\n",
      "Unique values in 'end_station_id' before cleaning:\n",
      "['5703.13' '4692.01' '5779.10' ... 'JC014' '3599.01' 'HB103']\n",
      "Rows with NaN values in 'start_station_id' or 'end_station_id':\n",
      "        start_station_id  end_station_id\n",
      "1329                 NaN         5470.12\n",
      "1348                 NaN         7884.04\n",
      "4505                 NaN         6889.12\n",
      "5986                 NaN         5470.12\n",
      "5988                 NaN         5470.12\n",
      "...                  ...             ...\n",
      "984179               NaN         5886.13\n",
      "984185               NaN         6089.11\n",
      "986439               NaN         6389.09\n",
      "989491           5730.08             NaN\n",
      "998750           5653.12             NaN\n",
      "\n",
      "[624 rows x 2 columns]\n",
      "Cleaned DataFrame:\n",
      "                 ride_id  rideable_type           started_at  \\\n",
      "0       58F2CA262B50E256   classic_bike  2024-01-25 20:39:09   \n",
      "1       AA7AB6D6E9F8D21B   classic_bike  2024-01-15 18:44:36   \n",
      "2       1830A6C4BA1E1A9D   classic_bike  2024-01-03 19:27:58   \n",
      "3       3995B084A51A1038   classic_bike  2024-01-22 18:29:46   \n",
      "4       23EE6A8979C333B1   classic_bike  2024-01-27 09:55:39   \n",
      "...                  ...            ...                  ...   \n",
      "999995  45C82F379A612E74  electric_bike  2024-01-27 15:09:20   \n",
      "999996  FCFDAF965C8A978D  electric_bike  2024-01-20 10:10:05   \n",
      "999997  258A221C9F7515A8  electric_bike  2024-01-15 18:18:11   \n",
      "999998  CB21C758F9E6E33E  electric_bike  2024-01-03 13:40:07   \n",
      "999999  C34B8AAEA5C83431  electric_bike  2024-01-12 20:53:55   \n",
      "\n",
      "                   ended_at          start_station_name  start_station_id  \\\n",
      "0       2024-01-25 20:44:07          Broadway & E 14 St           5905.12   \n",
      "1       2024-01-15 19:19:46         E 16 St & Irving Pl           5938.11   \n",
      "2       2024-01-03 19:58:42         E 16 St & Irving Pl           5938.11   \n",
      "3       2024-01-22 18:59:57         E 16 St & Irving Pl           5938.11   \n",
      "4       2024-01-27 10:00:48         E 16 St & Irving Pl           5938.11   \n",
      "...                     ...                         ...               ...   \n",
      "999995  2024-01-27 15:21:53         St Marks Pl & 2 Ave           5669.10   \n",
      "999996  2024-01-20 10:22:06  Willoughby St & Ashland Pl           4587.02   \n",
      "999997  2024-01-15 18:21:00             1 Ave & E 39 St           6303.01   \n",
      "999998  2024-01-03 13:45:06       W Broadway & Watts St           5569.07   \n",
      "999999  2024-01-12 21:11:27            E 142 St & 3 Ave           7781.10   \n",
      "\n",
      "                  end_station_name  end_station_id  start_lat  start_lng  \\\n",
      "0                  Ave A & E 11 St         5703.13  40.734546 -73.990741   \n",
      "1          Clermont Ave & Park Ave         4692.01  40.735367 -73.987974   \n",
      "2          Clermont Ave & Park Ave         4692.01  40.735367 -73.987974   \n",
      "3          Clermont Ave & Park Ave         4692.01  40.735367 -73.987974   \n",
      "4                  E 14 St & 1 Ave         5779.10  40.735367 -73.987974   \n",
      "...                            ...             ...        ...        ...   \n",
      "999995             E 48 St & 3 Ave         6541.03  40.728338 -73.987466   \n",
      "999996        Market St & Henry St         5270.09  40.691802 -73.978676   \n",
      "999997     E 39 St & Lexington Ave         6389.09  40.747177 -73.971244   \n",
      "999998       Lafayette St & E 8 St         5788.13  40.722985 -74.002846   \n",
      "999999  Freeman St & Southern Blvd         8060.01  40.812729 -73.923672   \n",
      "\n",
      "          end_lat    end_lng member_casual  \n",
      "0       40.728547 -73.981759        member  \n",
      "1       40.695734 -73.971297        member  \n",
      "2       40.695734 -73.971297        member  \n",
      "3       40.695734 -73.971297        member  \n",
      "4       40.731393 -73.982867        member  \n",
      "...           ...        ...           ...  \n",
      "999995  40.754601 -73.971879        member  \n",
      "999996  40.713107 -73.994464        member  \n",
      "999997  40.749499 -73.977292        member  \n",
      "999998  40.730207 -73.991026        member  \n",
      "999999  40.830051 -73.892103        member  \n",
      "\n",
      "[999376 rows x 13 columns]\n"
     ]
    }
   ],
   "source": [
    "import pandas as pd\n",
    "import numpy as np\n",
    "\n",
    "# Assuming 'data' is your dataset\n",
    "df = pd.DataFrame(data)\n",
    "\n",
    "# Inspect unique values in 'start_station_id' and 'end_station_id' before cleaning\n",
    "print(\"Unique values in 'start_station_id' before cleaning:\")\n",
    "print(df['start_station_id'].unique())\n",
    "\n",
    "print(\"Unique values in 'end_station_id' before cleaning:\")\n",
    "print(df['end_station_id'].unique())\n",
    "\n",
    "# Replace common string representations of NaN with actual np.nan\n",
    "df.replace(['NaN', 'nan', '', 'None', 'NULL', 'null', 'N/A', 'NA'], np.nan, inplace=True)\n",
    "\n",
    "# Convert 'start_station_id' and 'end_station_id' to numeric, forcing non-numeric values to NaN\n",
    "df['start_station_id'] = pd.to_numeric(df['start_station_id'], errors='coerce')\n",
    "df['end_station_id'] = pd.to_numeric(df['end_station_id'], errors='coerce')\n",
    "\n",
    "# Display rows with any NaN values in 'start_station_id' or 'end_station_id'\n",
    "nan_values = df[df[['start_station_id', 'end_station_id']].isna().any(axis=1)]\n",
    "print(\"Rows with NaN values in 'start_station_id' or 'end_station_id':\")\n",
    "print(nan_values[['start_station_id', 'end_station_id']])\n",
    "\n",
    "# Remove rows with any NaN values in 'start_station_id' or 'end_station_id'\n",
    "df_clean = df.dropna(subset=['start_station_id', 'end_station_id'])\n",
    "\n",
    "# Display the cleaned DataFrame\n",
    "print(\"Cleaned DataFrame:\")\n",
    "print(df_clean)\n"
   ]
  },
  {
   "cell_type": "code",
   "execution_count": 13,
   "metadata": {},
   "outputs": [],
   "source": [
    "# encode categorical values rideable_type and member_casual columns to numeric values"
   ]
  },
  {
   "cell_type": "code",
   "execution_count": 14,
   "metadata": {},
   "outputs": [
    {
     "data": {
      "text/plain": [
       "rideable_type\n",
       "electric_bike    637428\n",
       "classic_bike     361948\n",
       "Name: count, dtype: int64"
      ]
     },
     "execution_count": 14,
     "metadata": {},
     "output_type": "execute_result"
    }
   ],
   "source": [
    "df_clean.rideable_type.value_counts()"
   ]
  },
  {
   "cell_type": "code",
   "execution_count": 15,
   "metadata": {},
   "outputs": [
    {
     "data": {
      "text/plain": [
       "member_casual\n",
       "member    892838\n",
       "casual    106538\n",
       "Name: count, dtype: int64"
      ]
     },
     "execution_count": 15,
     "metadata": {},
     "output_type": "execute_result"
    }
   ],
   "source": [
    "df_clean.member_casual.value_counts()"
   ]
  },
  {
   "cell_type": "code",
   "execution_count": 16,
   "metadata": {},
   "outputs": [
    {
     "name": "stdout",
     "output_type": "stream",
     "text": [
      "Label Encoding Mapping:\n",
      "{'classic_bike': 0, 'electric_bike': 1}\n",
      "DataFrame with numeric rideable_type:\n",
      "            ride_id rideable_type           started_at             ended_at  \\\n",
      "0  58F2CA262B50E256  classic_bike  2024-01-25 20:39:09  2024-01-25 20:44:07   \n",
      "1  AA7AB6D6E9F8D21B  classic_bike  2024-01-15 18:44:36  2024-01-15 19:19:46   \n",
      "2  1830A6C4BA1E1A9D  classic_bike  2024-01-03 19:27:58  2024-01-03 19:58:42   \n",
      "3  3995B084A51A1038  classic_bike  2024-01-22 18:29:46  2024-01-22 18:59:57   \n",
      "4  23EE6A8979C333B1  classic_bike  2024-01-27 09:55:39  2024-01-27 10:00:48   \n",
      "\n",
      "    start_station_name  start_station_id         end_station_name  \\\n",
      "0   Broadway & E 14 St           5905.12          Ave A & E 11 St   \n",
      "1  E 16 St & Irving Pl           5938.11  Clermont Ave & Park Ave   \n",
      "2  E 16 St & Irving Pl           5938.11  Clermont Ave & Park Ave   \n",
      "3  E 16 St & Irving Pl           5938.11  Clermont Ave & Park Ave   \n",
      "4  E 16 St & Irving Pl           5938.11          E 14 St & 1 Ave   \n",
      "\n",
      "   end_station_id  start_lat  start_lng    end_lat    end_lng member_casual  \\\n",
      "0         5703.13  40.734546 -73.990741  40.728547 -73.981759        member   \n",
      "1         4692.01  40.735367 -73.987974  40.695734 -73.971297        member   \n",
      "2         4692.01  40.735367 -73.987974  40.695734 -73.971297        member   \n",
      "3         4692.01  40.735367 -73.987974  40.695734 -73.971297        member   \n",
      "4         5779.10  40.735367 -73.987974  40.731393 -73.982867        member   \n",
      "\n",
      "   rideable_type_numeric  \n",
      "0                      0  \n",
      "1                      0  \n",
      "2                      0  \n",
      "3                      0  \n",
      "4                      0  \n"
     ]
    }
   ],
   "source": [
    "import pandas as pd\n",
    "from sklearn.preprocessing import LabelEncoder\n",
    "\n",
    "# Assuming 'data' is your dataset\n",
    "df = pd.DataFrame(df_clean)\n",
    "\n",
    "# Create an instance of LabelEncoder\n",
    "label_encoder = LabelEncoder()\n",
    "\n",
    "# Fit and transform the rideable_type column\n",
    "df['rideable_type_numeric'] = label_encoder.fit_transform(df['rideable_type'])\n",
    "\n",
    "# Display the mapping of categories to numbers\n",
    "mapping = dict(zip(label_encoder.classes_, label_encoder.transform(label_encoder.classes_)))\n",
    "print(\"Label Encoding Mapping:\")\n",
    "print(mapping)\n",
    "\n",
    "# Display the DataFrame with the new numeric column\n",
    "print(\"DataFrame with numeric rideable_type:\")\n",
    "df_clean=df.copy()\n",
    "print(df_clean.head())\n"
   ]
  },
  {
   "cell_type": "code",
   "execution_count": 17,
   "metadata": {},
   "outputs": [
    {
     "name": "stdout",
     "output_type": "stream",
     "text": [
      "Label Encoding Mapping:\n",
      "{'casual': 0, 'member': 1}\n",
      "DataFrame with numeric member_casual:\n",
      "            ride_id rideable_type           started_at             ended_at  \\\n",
      "0  58F2CA262B50E256  classic_bike  2024-01-25 20:39:09  2024-01-25 20:44:07   \n",
      "1  AA7AB6D6E9F8D21B  classic_bike  2024-01-15 18:44:36  2024-01-15 19:19:46   \n",
      "2  1830A6C4BA1E1A9D  classic_bike  2024-01-03 19:27:58  2024-01-03 19:58:42   \n",
      "3  3995B084A51A1038  classic_bike  2024-01-22 18:29:46  2024-01-22 18:59:57   \n",
      "4  23EE6A8979C333B1  classic_bike  2024-01-27 09:55:39  2024-01-27 10:00:48   \n",
      "\n",
      "    start_station_name  start_station_id         end_station_name  \\\n",
      "0   Broadway & E 14 St           5905.12          Ave A & E 11 St   \n",
      "1  E 16 St & Irving Pl           5938.11  Clermont Ave & Park Ave   \n",
      "2  E 16 St & Irving Pl           5938.11  Clermont Ave & Park Ave   \n",
      "3  E 16 St & Irving Pl           5938.11  Clermont Ave & Park Ave   \n",
      "4  E 16 St & Irving Pl           5938.11          E 14 St & 1 Ave   \n",
      "\n",
      "   end_station_id  start_lat  start_lng    end_lat    end_lng member_casual  \\\n",
      "0         5703.13  40.734546 -73.990741  40.728547 -73.981759        member   \n",
      "1         4692.01  40.735367 -73.987974  40.695734 -73.971297        member   \n",
      "2         4692.01  40.735367 -73.987974  40.695734 -73.971297        member   \n",
      "3         4692.01  40.735367 -73.987974  40.695734 -73.971297        member   \n",
      "4         5779.10  40.735367 -73.987974  40.731393 -73.982867        member   \n",
      "\n",
      "   rideable_type_numeric  member_casual_numeric  \n",
      "0                      0                      1  \n",
      "1                      0                      1  \n",
      "2                      0                      1  \n",
      "3                      0                      1  \n",
      "4                      0                      1  \n"
     ]
    }
   ],
   "source": [
    "import pandas as pd\n",
    "from sklearn.preprocessing import LabelEncoder\n",
    "\n",
    "# Assuming 'data' is your dataset\n",
    "df = pd.DataFrame(df_clean)\n",
    "\n",
    "# Create an instance of LabelEncoder\n",
    "label_encoder = LabelEncoder()\n",
    "\n",
    "# Fit and transform the rideable_type column\n",
    "df['member_casual_numeric'] = label_encoder.fit_transform(df['member_casual'])\n",
    "\n",
    "# Display the mapping of categories to numbers\n",
    "mapping = dict(zip(label_encoder.classes_, label_encoder.transform(label_encoder.classes_)))\n",
    "print(\"Label Encoding Mapping:\")\n",
    "print(mapping)\n",
    "\n",
    "# Display the DataFrame with the new numeric column\n",
    "print(\"DataFrame with numeric member_casual:\")\n",
    "df_clean=df.copy()\n",
    "print(df.head())\n"
   ]
  },
  {
   "cell_type": "code",
   "execution_count": 18,
   "metadata": {},
   "outputs": [],
   "source": [
    "import pandas as pd\n",
    "import numpy as np\n",
    "\n",
    "# Function to calculate the distance between two points using the Haversine formula\n",
    "def haversine_distance(lat1, lon1, lat2, lon2):\n",
    "    # Convert latitude and longitude from degrees to radians\n",
    "    lat1, lon1, lat2, lon2 = map(np.radians, [lat1, lon1, lat2, lon2])\n",
    "    \n",
    "    # Haversine formula\n",
    "    dlat = lat2 - lat1 \n",
    "    dlon = lon2 - lon1 \n",
    "    a = np.sin(dlat/2)**2 + np.cos(lat1) * np.cos(lat2) * np.sin(dlon/2)**2\n",
    "    c = 2 * np.arctan2(np.sqrt(a), np.sqrt(1-a)) \n",
    "    r = 3958.8 # Radius of Earth in miles\n",
    "    return c * r\n",
    "\n",
    "# Calculate distance for each row\n",
    "df_clean['trip_distance_miles'] = df_clean.apply(lambda row: haversine_distance(row['start_lat'], row['start_lng'], row['end_lat'], row['end_lng']), axis=1)\n"
   ]
  },
  {
   "cell_type": "code",
   "execution_count": 19,
   "metadata": {},
   "outputs": [],
   "source": [
    "#create target"
   ]
  },
  {
   "cell_type": "code",
   "execution_count": 20,
   "metadata": {},
   "outputs": [],
   "source": [
    "df_clean['started_at'] = pd.to_datetime(df_clean['started_at'])\n",
    "df_clean['ended_at'] = pd.to_datetime(df_clean['ended_at'])"
   ]
  },
  {
   "cell_type": "code",
   "execution_count": 21,
   "metadata": {},
   "outputs": [],
   "source": [
    "df_clean[\"duration_min\"] = df_clean.ended_at - df_clean.started_at\n",
    "df_clean.duration_min = df_clean.duration_min.apply(lambda td : float(td.total_seconds())/60)"
   ]
  },
  {
   "cell_type": "code",
   "execution_count": 22,
   "metadata": {},
   "outputs": [],
   "source": [
    "df = pd.DataFrame(df_clean)\n",
    "\n",
    "# Drop the specified columns\n",
    "columns_to_drop = ['ride_id', 'rideable_type', 'started_at', 'ended_at', \n",
    "                   'start_station_name', 'end_station_name', \n",
    "                   'start_lat', 'start_lng', 'end_lat', 'end_lng', \n",
    "                   'member_casual']\n",
    "\n",
    "df_clean= df.drop(columns=columns_to_drop)"
   ]
  },
  {
   "cell_type": "code",
   "execution_count": 23,
   "metadata": {},
   "outputs": [
    {
     "data": {
      "text/html": [
       "<div>\n",
       "<style scoped>\n",
       "    .dataframe tbody tr th:only-of-type {\n",
       "        vertical-align: middle;\n",
       "    }\n",
       "\n",
       "    .dataframe tbody tr th {\n",
       "        vertical-align: top;\n",
       "    }\n",
       "\n",
       "    .dataframe thead th {\n",
       "        text-align: right;\n",
       "    }\n",
       "</style>\n",
       "<table border=\"1\" class=\"dataframe\">\n",
       "  <thead>\n",
       "    <tr style=\"text-align: right;\">\n",
       "      <th></th>\n",
       "      <th>start_station_id</th>\n",
       "      <th>end_station_id</th>\n",
       "      <th>rideable_type_numeric</th>\n",
       "      <th>member_casual_numeric</th>\n",
       "      <th>trip_distance_miles</th>\n",
       "      <th>duration_min</th>\n",
       "    </tr>\n",
       "  </thead>\n",
       "  <tbody>\n",
       "    <tr>\n",
       "      <th>0</th>\n",
       "      <td>5905.12</td>\n",
       "      <td>5703.13</td>\n",
       "      <td>0</td>\n",
       "      <td>1</td>\n",
       "      <td>0.626842</td>\n",
       "      <td>4.966667</td>\n",
       "    </tr>\n",
       "    <tr>\n",
       "      <th>1</th>\n",
       "      <td>5938.11</td>\n",
       "      <td>4692.01</td>\n",
       "      <td>0</td>\n",
       "      <td>1</td>\n",
       "      <td>2.874320</td>\n",
       "      <td>35.166667</td>\n",
       "    </tr>\n",
       "    <tr>\n",
       "      <th>2</th>\n",
       "      <td>5938.11</td>\n",
       "      <td>4692.01</td>\n",
       "      <td>0</td>\n",
       "      <td>1</td>\n",
       "      <td>2.874320</td>\n",
       "      <td>30.733333</td>\n",
       "    </tr>\n",
       "    <tr>\n",
       "      <th>3</th>\n",
       "      <td>5938.11</td>\n",
       "      <td>4692.01</td>\n",
       "      <td>0</td>\n",
       "      <td>1</td>\n",
       "      <td>2.874320</td>\n",
       "      <td>30.183333</td>\n",
       "    </tr>\n",
       "    <tr>\n",
       "      <th>4</th>\n",
       "      <td>5938.11</td>\n",
       "      <td>5779.10</td>\n",
       "      <td>0</td>\n",
       "      <td>1</td>\n",
       "      <td>0.383258</td>\n",
       "      <td>5.150000</td>\n",
       "    </tr>\n",
       "  </tbody>\n",
       "</table>\n",
       "</div>"
      ],
      "text/plain": [
       "   start_station_id  end_station_id  rideable_type_numeric  \\\n",
       "0           5905.12         5703.13                      0   \n",
       "1           5938.11         4692.01                      0   \n",
       "2           5938.11         4692.01                      0   \n",
       "3           5938.11         4692.01                      0   \n",
       "4           5938.11         5779.10                      0   \n",
       "\n",
       "   member_casual_numeric  trip_distance_miles  duration_min  \n",
       "0                      1             0.626842      4.966667  \n",
       "1                      1             2.874320     35.166667  \n",
       "2                      1             2.874320     30.733333  \n",
       "3                      1             2.874320     30.183333  \n",
       "4                      1             0.383258      5.150000  "
      ]
     },
     "execution_count": 23,
     "metadata": {},
     "output_type": "execute_result"
    }
   ],
   "source": [
    "df_clean.head()"
   ]
  },
  {
   "cell_type": "code",
   "execution_count": 24,
   "metadata": {},
   "outputs": [
    {
     "data": {
      "text/plain": [
       "(999376, 6)"
      ]
     },
     "execution_count": 24,
     "metadata": {},
     "output_type": "execute_result"
    }
   ],
   "source": [
    "df_clean.shape"
   ]
  },
  {
   "cell_type": "code",
   "execution_count": 123,
   "metadata": {},
   "outputs": [],
   "source": [
    "#export clean data"
   ]
  },
  {
   "cell_type": "code",
   "execution_count": 25,
   "metadata": {},
   "outputs": [],
   "source": [
    "df_clean.to_csv('output.csv', index=False)"
   ]
  },
  {
   "cell_type": "code",
   "execution_count": 26,
   "metadata": {},
   "outputs": [
    {
     "data": {
      "text/html": [
       "<div>\n",
       "<style scoped>\n",
       "    .dataframe tbody tr th:only-of-type {\n",
       "        vertical-align: middle;\n",
       "    }\n",
       "\n",
       "    .dataframe tbody tr th {\n",
       "        vertical-align: top;\n",
       "    }\n",
       "\n",
       "    .dataframe thead th {\n",
       "        text-align: right;\n",
       "    }\n",
       "</style>\n",
       "<table border=\"1\" class=\"dataframe\">\n",
       "  <thead>\n",
       "    <tr style=\"text-align: right;\">\n",
       "      <th></th>\n",
       "      <th>start_station_id</th>\n",
       "      <th>end_station_id</th>\n",
       "      <th>rideable_type_numeric</th>\n",
       "      <th>member_casual_numeric</th>\n",
       "      <th>trip_distance_miles</th>\n",
       "      <th>duration_min</th>\n",
       "    </tr>\n",
       "  </thead>\n",
       "  <tbody>\n",
       "    <tr>\n",
       "      <th>0</th>\n",
       "      <td>5905.12</td>\n",
       "      <td>5703.13</td>\n",
       "      <td>0</td>\n",
       "      <td>1</td>\n",
       "      <td>0.626842</td>\n",
       "      <td>4.966667</td>\n",
       "    </tr>\n",
       "    <tr>\n",
       "      <th>1</th>\n",
       "      <td>5938.11</td>\n",
       "      <td>4692.01</td>\n",
       "      <td>0</td>\n",
       "      <td>1</td>\n",
       "      <td>2.874320</td>\n",
       "      <td>35.166667</td>\n",
       "    </tr>\n",
       "    <tr>\n",
       "      <th>2</th>\n",
       "      <td>5938.11</td>\n",
       "      <td>4692.01</td>\n",
       "      <td>0</td>\n",
       "      <td>1</td>\n",
       "      <td>2.874320</td>\n",
       "      <td>30.733333</td>\n",
       "    </tr>\n",
       "    <tr>\n",
       "      <th>3</th>\n",
       "      <td>5938.11</td>\n",
       "      <td>4692.01</td>\n",
       "      <td>0</td>\n",
       "      <td>1</td>\n",
       "      <td>2.874320</td>\n",
       "      <td>30.183333</td>\n",
       "    </tr>\n",
       "    <tr>\n",
       "      <th>4</th>\n",
       "      <td>5938.11</td>\n",
       "      <td>5779.10</td>\n",
       "      <td>0</td>\n",
       "      <td>1</td>\n",
       "      <td>0.383258</td>\n",
       "      <td>5.150000</td>\n",
       "    </tr>\n",
       "  </tbody>\n",
       "</table>\n",
       "</div>"
      ],
      "text/plain": [
       "   start_station_id  end_station_id  rideable_type_numeric  \\\n",
       "0           5905.12         5703.13                      0   \n",
       "1           5938.11         4692.01                      0   \n",
       "2           5938.11         4692.01                      0   \n",
       "3           5938.11         4692.01                      0   \n",
       "4           5938.11         5779.10                      0   \n",
       "\n",
       "   member_casual_numeric  trip_distance_miles  duration_min  \n",
       "0                      1             0.626842      4.966667  \n",
       "1                      1             2.874320     35.166667  \n",
       "2                      1             2.874320     30.733333  \n",
       "3                      1             2.874320     30.183333  \n",
       "4                      1             0.383258      5.150000  "
      ]
     },
     "execution_count": 26,
     "metadata": {},
     "output_type": "execute_result"
    }
   ],
   "source": [
    "new_df = pd.read_csv(\"artifacts/data_ingestion/output.csv\")\n",
    "new_df.head()"
   ]
  },
  {
   "cell_type": "code",
   "execution_count": 27,
   "metadata": {},
   "outputs": [
    {
     "name": "stdout",
     "output_type": "stream",
     "text": [
      "<class 'pandas.core.frame.DataFrame'>\n",
      "RangeIndex: 999376 entries, 0 to 999375\n",
      "Data columns (total 6 columns):\n",
      " #   Column                 Non-Null Count   Dtype  \n",
      "---  ------                 --------------   -----  \n",
      " 0   start_station_id       999376 non-null  float64\n",
      " 1   end_station_id         999376 non-null  float64\n",
      " 2   rideable_type_numeric  999376 non-null  int64  \n",
      " 3   member_casual_numeric  999376 non-null  int64  \n",
      " 4   trip_distance_miles    999376 non-null  float64\n",
      " 5   duration_min           999376 non-null  float64\n",
      "dtypes: float64(4), int64(2)\n",
      "memory usage: 45.7 MB\n"
     ]
    }
   ],
   "source": [
    "new_df.info()"
   ]
  },
  {
   "cell_type": "code",
   "execution_count": 50,
   "metadata": {},
   "outputs": [],
   "source": [
    "from dataclasses import dataclass\n",
    "from pathlib import Path\n",
    "\n",
    "\n",
    "@dataclass(frozen=True)\n",
    "class DataValidationConfig:\n",
    "    root_dir: Path\n",
    "    STATUS_FILE: str\n",
    "    unzip_data_dir: Path\n",
    "    all_schema: dict"
   ]
  },
  {
   "cell_type": "code",
   "execution_count": 51,
   "metadata": {},
   "outputs": [],
   "source": [
    "from mlProject.constants import *\n",
    "from mlProject.utils.common import read_yaml, create_directories"
   ]
  },
  {
   "cell_type": "code",
   "execution_count": 52,
   "metadata": {},
   "outputs": [],
   "source": [
    "class ConfigurationManager:\n",
    "    def __init__(\n",
    "        self,\n",
    "        config_filepath = CONFIG_FILE_PATH,\n",
    "        params_filepath = PARAMS_FILE_PATH,\n",
    "        schema_filepath = SCHEMA_FILE_PATH):\n",
    "\n",
    "        self.config = read_yaml(config_filepath)\n",
    "        self.params = read_yaml(params_filepath)\n",
    "        self.schema = read_yaml(schema_filepath)\n",
    "\n",
    "        create_directories([self.config.artifacts_root])\n",
    "\n",
    "\n",
    "    \n",
    "    def get_data_validation_config(self) -> DataValidationConfig:\n",
    "        config = self.config.data_validation\n",
    "        schema = self.schema.COLUMNS\n",
    "\n",
    "        create_directories([config.root_dir])\n",
    "\n",
    "        data_validation_config = DataValidationConfig(\n",
    "            root_dir=config.root_dir,\n",
    "            STATUS_FILE=config.STATUS_FILE,\n",
    "            unzip_data_dir = config.unzip_data_dir,\n",
    "            all_schema=schema,\n",
    "        )\n",
    "\n",
    "        return data_validation_config"
   ]
  },
  {
   "cell_type": "code",
   "execution_count": 53,
   "metadata": {},
   "outputs": [],
   "source": [
    "import os\n",
    "from mlProject import logger"
   ]
  },
  {
   "cell_type": "code",
   "execution_count": 54,
   "metadata": {},
   "outputs": [],
   "source": [
    "class DataValiadtion:\n",
    "    def __init__(self, config: DataValidationConfig):\n",
    "        self.config = config\n",
    "\n",
    "\n",
    "    def validate_all_columns(self)-> bool:\n",
    "        try:\n",
    "            validation_status = None\n",
    "\n",
    "            data = pd.read_csv(self.config.unzip_data_dir)\n",
    "            all_cols = list(data.columns)\n",
    "\n",
    "            all_schema = self.config.all_schema.keys()\n",
    "\n",
    "            \n",
    "            for col in all_cols:\n",
    "                if col not in all_schema:\n",
    "                    validation_status = False\n",
    "                    with open(self.config.STATUS_FILE, 'w') as f:\n",
    "                        f.write(f\"Validation status: {validation_status}\")\n",
    "                else:\n",
    "                    validation_status = True\n",
    "                    with open(self.config.STATUS_FILE, 'w') as f:\n",
    "                        f.write(f\"Validation status: {validation_status}\")\n",
    "\n",
    "            return validation_status\n",
    "        \n",
    "        except Exception as e:\n",
    "            raise e\n",
    "\n"
   ]
  },
  {
   "cell_type": "code",
   "execution_count": 62,
   "metadata": {},
   "outputs": [
    {
     "name": "stdout",
     "output_type": "stream",
     "text": [
      "[2024-07-28 06:41:24,731: INFO: common: yaml file: config/config.yaml loaded successfully]\n",
      "[2024-07-28 06:41:24,733: INFO: common: yaml file: params.yaml loaded successfully]\n",
      "[2024-07-28 06:41:24,735: INFO: common: yaml file: schema.yaml loaded successfully]\n",
      "[2024-07-28 06:41:24,737: INFO: common: created directory at: artifacts]\n",
      "[2024-07-28 06:41:24,739: INFO: common: created directory at: artifacts/data_validation]\n"
     ]
    }
   ],
   "source": [
    "try:\n",
    "    config = ConfigurationManager()\n",
    "    data_validation_config = config.get_data_validation_config()\n",
    "    data_validation = DataValiadtion(config=data_validation_config)\n",
    "    data_validation.validate_all_columns()\n",
    "except Exception as e:\n",
    "    raise e"
   ]
  },
  {
   "cell_type": "code",
   "execution_count": null,
   "metadata": {},
   "outputs": [],
   "source": []
  }
 ],
 "metadata": {
  "kernelspec": {
   "display_name": "mlproj",
   "language": "python",
   "name": "python3"
  },
  "language_info": {
   "codemirror_mode": {
    "name": "ipython",
    "version": 3
   },
   "file_extension": ".py",
   "mimetype": "text/x-python",
   "name": "python",
   "nbconvert_exporter": "python",
   "pygments_lexer": "ipython3",
   "version": "3.8.19"
  }
 },
 "nbformat": 4,
 "nbformat_minor": 2
}
